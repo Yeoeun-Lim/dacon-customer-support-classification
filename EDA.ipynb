{
 "cells": [
  {
   "cell_type": "code",
   "execution_count": 1,
   "id": "33b61c8b",
   "metadata": {},
   "outputs": [
    {
     "name": "stdout",
     "output_type": "stream",
     "text": [
      "(30858, 10) (13225, 9) (13225, 2)\n",
      "            ID   age gender  tenure  frequent  payment_interval  \\\n",
      "0  TRAIN_00000  54.0      F    47.0      22.0               8.0   \n",
      "1  TRAIN_00001  30.0      M    16.0      15.0               5.0   \n",
      "2  TRAIN_00002  29.0      M     8.0      30.0              21.0   \n",
      "3  TRAIN_00003  38.0      F    38.0      23.0              10.0   \n",
      "4  TRAIN_00004  25.0      F    52.0       3.0              17.0   \n",
      "\n",
      "  subscription_type  contract_length  after_interaction  support_needs  \n",
      "0            member               90               25.0              0  \n",
      "1               vip              360               23.0              0  \n",
      "2              plus               30               21.0              0  \n",
      "3               vip               90                6.0              0  \n",
      "4            member               30                1.0              2  \n"
     ]
    }
   ],
   "source": [
    "import pandas as pd\n",
    "\n",
    "train = pd.read_csv(\"train.csv\")\n",
    "test = pd.read_csv(\"test.csv\")\n",
    "sample_submission = pd.read_csv(\"sample_submission.csv\")\n",
    "\n",
    "print(train.shape, test.shape, sample_submission.shape)\n",
    "print(train.head())"
   ]
  },
  {
   "cell_type": "code",
   "execution_count": null,
   "id": "d6b37a4e",
   "metadata": {},
   "outputs": [],
   "source": []
  }
 ],
 "metadata": {
  "kernelspec": {
   "display_name": "base",
   "language": "python",
   "name": "python3"
  },
  "language_info": {
   "codemirror_mode": {
    "name": "ipython",
    "version": 3
   },
   "file_extension": ".py",
   "mimetype": "text/x-python",
   "name": "python",
   "nbconvert_exporter": "python",
   "pygments_lexer": "ipython3",
   "version": "3.12.2"
  }
 },
 "nbformat": 4,
 "nbformat_minor": 5
}
